{
 "cells": [
  {
   "cell_type": "code",
   "execution_count": 4,
   "metadata": {},
   "outputs": [],
   "source": [
    "import pandas as pd"
   ]
  },
  {
   "cell_type": "code",
   "execution_count": 5,
   "metadata": {},
   "outputs": [
    {
     "name": "stdout",
     "output_type": "stream",
     "text": [
      "Your map should have been opened in your browser automatically.\n",
      "Press ctrl+c to return.\n"
     ]
    }
   ],
   "source": [
    "import folium\n",
    "\n",
    "seoulmap = folium.Map(location=[37.55,126.98], zoom_start=12)\n",
    "seoulmap.show_in_browser()"
   ]
  },
  {
   "cell_type": "code",
   "execution_count": 6,
   "metadata": {},
   "outputs": [
    {
     "name": "stdout",
     "output_type": "stream",
     "text": [
      "Your map should have been opened in your browser automatically.\n",
      "Press ctrl+c to return.\n"
     ]
    }
   ],
   "source": [
    "map = folium.Map(location=[35.235,128.8664], zoom_start=15)\n",
    "\n",
    "folium.Marker(\n",
    "    location=[35.235,128.8664],\n",
    "    popup=\"NHN아카데미 경남캠퍼스\",\n",
    "    icon=folium.Icon(icon=\"green\"),\n",
    ").add_to(map)\n",
    "\n",
    "folium.Marker(\n",
    "    location=[35.1403,126.9339],\n",
    "    popup=\"NHN 아카데미 광주 캠퍼스\",\n",
    "    icon=folium.Icon(icon=\"green\"),\n",
    ").add_to(map)\n",
    "\n",
    "folium.Marker(\n",
    "    location=[36.3677,127.3445],\n",
    "    popup=\"NHN 아카데미 광주 캠퍼스\",\n",
    "    icon=folium.Icon(icon=\"green\"),\n",
    ").add_to(map)\n",
    "\n",
    "map.show_in_browser()"
   ]
  },
  {
   "cell_type": "code",
   "execution_count": 11,
   "metadata": {},
   "outputs": [
    {
     "name": "stdout",
     "output_type": "stream",
     "text": [
      "Your map should have been opened in your browser automatically.\n",
      "Press ctrl+c to return.\n"
     ]
    }
   ],
   "source": [
    "import json\n",
    "\n",
    "df = pd.read_excel('./code/경기도인구데이터.xlsx', index_col='구분')\n",
    "df.columns = df.columns.map(str)\n",
    "\n",
    "geo_path = './code/경기도행정구역경계.json'\n",
    "try:\n",
    "    geo_data = json.load(open(geo_path,encoding='utf-8'))\n",
    "except:\n",
    "    geo_data = json.load(open(geo_path,encoding='utf-8-sig'))\n",
    "\n",
    "g_map = folium.Map(location=[37.5502,126.982])\n",
    "                #    tiles='Stamen Terrain', zoom_start=9)\n",
    "\n",
    "year = '2017'\n",
    "\n",
    "folium.Choropleth(geo_data=geo_data,\n",
    "                  data=df[year],\n",
    "                  columns=[df.index,df[year]],\n",
    "                  fill_color='YlOrRd', fill_opacity=0.7, line_opacity=0.3,\n",
    "                  threshold_scale=[10000, 100000, 300000, 500000, 700000],\n",
    "                  key_on='feature.properties.name',\n",
    "                  ).add_to(g_map)\n",
    "\n",
    "g_map.show_in_browser()"
   ]
  }
 ],
 "metadata": {
  "kernelspec": {
   "display_name": "base",
   "language": "python",
   "name": "python3"
  },
  "language_info": {
   "codemirror_mode": {
    "name": "ipython",
    "version": 3
   },
   "file_extension": ".py",
   "mimetype": "text/x-python",
   "name": "python",
   "nbconvert_exporter": "python",
   "pygments_lexer": "ipython3",
   "version": "3.9.12"
  },
  "orig_nbformat": 4
 },
 "nbformat": 4,
 "nbformat_minor": 2
}
