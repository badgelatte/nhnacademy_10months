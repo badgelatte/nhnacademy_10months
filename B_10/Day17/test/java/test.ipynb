{
 "cells": [
  {
   "cell_type": "code",
   "execution_count": 1,
   "metadata": {
    "vscode": {
     "languageId": "java"
    }
   },
   "outputs": [
    {
     "name": "stdout",
     "output_type": "stream",
     "text": [
      "2"
     ]
    },
    {
     "ename": "CompilationException",
     "evalue": "",
     "output_type": "error",
     "traceback": [
      "\u001b[1m\u001b[30m|   \u001b[1m\u001b[30mb = \u001b[0m\u001b[1m\u001b[30m\u001b[41ma\u001b[0m\u001b[1m\u001b[30m;\u001b[0m",
      "\u001b[1m\u001b[31mincompatible types: possible lossy conversion from double to int\u001b[0m",
      ""
     ]
    }
   ],
   "source": [
    "double a = 10;\n",
    "int b = 1;\n",
    "if (a == b) {\n",
    "    System.out.print(1);\n",
    "} \n",
    "else {\n",
    "    System.out.print(2);\n",
    "}\n",
    "b = a;\n",
    "System.out.println(a);\n",
    "System.out.println(b);"
   ]
  },
  {
   "cell_type": "code",
   "execution_count": 2,
   "metadata": {
    "vscode": {
     "languageId": "java"
    }
   },
   "outputs": [],
   "source": [
    "double a = 10;\n",
    "int b = 1;\n",
    "\n",
    "b = (int) a;\n"
   ]
  },
  {
   "cell_type": "code",
   "execution_count": 3,
   "metadata": {
    "vscode": {
     "languageId": "java"
    }
   },
   "outputs": [],
   "source": [
    "double a = 10;\n",
    "int b = 1;\n",
    "\n",
    "a = b;"
   ]
  },
  {
   "cell_type": "code",
   "execution_count": 8,
   "metadata": {
    "vscode": {
     "languageId": "java"
    }
   },
   "outputs": [
    {
     "ename": "CompilationException",
     "evalue": "",
     "output_type": "error",
     "traceback": [
      "\u001b[1m\u001b[30m|   \u001b[1m\u001b[30mSystem.out.print(\u001b[0m\u001b[1m\u001b[30m\u001b[41m\"name\" * 3\u001b[0m\u001b[1m\u001b[30m)\u001b[0m",
      "\u001b[1m\u001b[31mbad operand types for binary operator '*'\u001b[0m",
      "\u001b[1m\u001b[31m  first type:  java.lang.String\u001b[0m",
      "\u001b[1m\u001b[31m  second type: int\u001b[0m",
      ""
     ]
    }
   ],
   "source": [
    "System.out.print(\"name\" * 3)"
   ]
  },
  {
   "cell_type": "code",
   "execution_count": 9,
   "metadata": {
    "vscode": {
     "languageId": "java"
    }
   },
   "outputs": [
    {
     "name": "stdout",
     "output_type": "stream",
     "text": [
      "AbCdEf\n",
      "aBcDeF\n"
     ]
    }
   ],
   "source": [
    "String target = \"AbCdEf\";\n",
    "String result = \"\";\n",
    "\n",
    "for(char c: target.toCharArray()) {\n",
    "    if( c >= 97 && c <= 122) {\n",
    "        result += (char)(c-32);\n",
    "    }\n",
    "    else\n",
    "        result += (char)(c+32);   \n",
    "}\n",
    "\n",
    "System.out.println(target);\n",
    "System.out.println(result);\n"
   ]
  },
  {
   "cell_type": "code",
   "execution_count": 18,
   "metadata": {
    "vscode": {
     "languageId": "java"
    }
   },
   "outputs": [
    {
     "name": "stdout",
     "output_type": "stream",
     "text": [
      "true\n"
     ]
    },
    {
     "name": "stdout",
     "output_type": "stream",
     "text": [
      "false\n",
      "\n",
      "true\n",
      "true\n"
     ]
    }
   ],
   "source": [
    "String s1 = new String(\"abc\");\n",
    "String s2 = new String(\"abc\");\n",
    "\n",
    "// s1과 s2가 각각 저장된 주소 값을 비교\n",
    "System.out.println(s1.equals(s2));\n",
    "System.out.println(s1 == s2);\n",
    "\n",
    "// 결과 : true, false -> why? s1, s2는 다른 주소값을 쓰기 때문\n",
    "\n",
    "System.out.println();\n",
    "\n",
    "String a1 = \"abc\";\n",
    "String a2 = \"abc\";\n",
    "\n",
    "// s1과 s2가 각각 저장된 주소 값을 비교\n",
    "System.out.println(a1.equals(a2));  // 가지고 있는 data 값이 같은가\n",
    "System.out.println(a1 == a2);       // 가지고 있는 data를 넣은 주소 값이 같은가\n",
    "\n",
    "// 결과 : true, true -> why? a1, a2는 같은 주소값을 쓰기 때문"
   ]
  },
  {
   "cell_type": "code",
   "execution_count": 34,
   "metadata": {
    "vscode": {
     "languageId": "java"
    }
   },
   "outputs": [
    {
     "name": "stdout",
     "output_type": "stream",
     "text": [
      "em ot smees s'ti taht elims a tog ehs\n"
     ]
    }
   ],
   "source": [
    "String target = \"she got a smile that it's seems to me\";\n",
    "String result = \"\";\n",
    "\n",
    "int i = target.length() - 1;\n",
    "\n",
    "char [] array = target.toCharArray();\n",
    "\n",
    "for(char s: array) {\n",
    "    result += array[i--];\n",
    "}\n",
    "System.out.println(result);"
   ]
  },
  {
   "cell_type": "code",
   "execution_count": null,
   "metadata": {
    "vscode": {
     "languageId": "java"
    }
   },
   "outputs": [],
   "source": []
  }
 ],
 "metadata": {
  "kernelspec": {
   "display_name": "Java",
   "language": "java",
   "name": "java"
  },
  "language_info": {
   "codemirror_mode": "java",
   "file_extension": ".jshell",
   "mimetype": "text/x-java-source",
   "name": "Java",
   "pygments_lexer": "java",
   "version": "11.0.20.1+1-post-Ubuntu-0ubuntu122.04"
  },
  "orig_nbformat": 4
 },
 "nbformat": 4,
 "nbformat_minor": 2
}
