{
 "cells": [
  {
   "cell_type": "code",
   "execution_count": 8,
   "metadata": {
    "vscode": {
     "languageId": "java"
    }
   },
   "outputs": [
    {
     "name": "stdout",
     "output_type": "stream",
     "text": [
      "2"
     ]
    },
    {
     "ename": "CompilationException",
     "evalue": "",
     "output_type": "error",
     "traceback": [
      "\u001b[1m\u001b[30m|   \u001b[1m\u001b[30mb = \u001b[0m\u001b[1m\u001b[30m\u001b[41ma\u001b[0m\u001b[1m\u001b[30m;\u001b[0m",
      "\u001b[1m\u001b[31mincompatible types: possible lossy conversion from double to int\u001b[0m",
      ""
     ]
    }
   ],
   "source": [
    "double a = 10;\n",
    "int b = 1;\n",
    "if (a == b) {\n",
    "    System.out.print(1);\n",
    "} \n",
    "else {\n",
    "    System.out.print(2);\n",
    "}\n",
    "b = a;\n",
    "System.out.println(a);\n",
    "System.out.println(b);"
   ]
  },
  {
   "cell_type": "code",
   "execution_count": null,
   "metadata": {
    "vscode": {
     "languageId": "java"
    }
   },
   "outputs": [],
   "source": [
    "double a = 10;\n",
    "int b = 1;\n",
    "\n",
    "b = (int) a;\n"
   ]
  },
  {
   "cell_type": "code",
   "execution_count": null,
   "metadata": {
    "vscode": {
     "languageId": "java"
    }
   },
   "outputs": [],
   "source": [
    "double a = 10;\n",
    "int b = 1;\n",
    "\n",
    "a = b;"
   ]
  },
  {
   "cell_type": "code",
   "execution_count": null,
   "metadata": {
    "vscode": {
     "languageId": "java"
    }
   },
   "outputs": [
    {
     "ename": "CompilationException",
     "evalue": "",
     "output_type": "error",
     "traceback": [
      "\u001b[1m\u001b[30m|   \u001b[1m\u001b[30mSystem.out.print(\u001b[0m\u001b[1m\u001b[30m\u001b[41m\"name\" * 3\u001b[0m\u001b[1m\u001b[30m)\u001b[0m",
      "\u001b[1m\u001b[31mbad operand types for binary operator '*'\u001b[0m",
      "\u001b[1m\u001b[31m  first type:  java.lang.String\u001b[0m",
      "\u001b[1m\u001b[31m  second type: int\u001b[0m",
      ""
     ]
    }
   ],
   "source": [
    "System.out.print(\"name\" * 3)"
   ]
  },
  {
   "cell_type": "code",
   "execution_count": null,
   "metadata": {
    "vscode": {
     "languageId": "java"
    }
   },
   "outputs": [
    {
     "name": "stdout",
     "output_type": "stream",
     "text": [
      "AbCdEf\n",
      "aBcDeF\n"
     ]
    }
   ],
   "source": [
    "String target = \"AbCdEf\";\n",
    "String result = \"\";\n",
    "\n",
    "for(char c: target.toCharArray()) {\n",
    "    if( c >= 97 && c <= 122) {\n",
    "        result += (char)(c-32);\n",
    "    }\n",
    "    else\n",
    "        result += (char)(c+32);   \n",
    "}\n",
    "\n",
    "System.out.println(target);\n",
    "System.out.println(result);\n"
   ]
  },
  {
   "cell_type": "code",
   "execution_count": null,
   "metadata": {
    "vscode": {
     "languageId": "java"
    }
   },
   "outputs": [
    {
     "name": "stdout",
     "output_type": "stream",
     "text": [
      "true\n"
     ]
    },
    {
     "name": "stdout",
     "output_type": "stream",
     "text": [
      "false\n",
      "\n",
      "true\n",
      "true\n"
     ]
    }
   ],
   "source": [
    "String s1 = new String(\"abc\");\n",
    "String s2 = new String(\"abc\");\n",
    "\n",
    "// s1과 s2가 각각 저장된 주소 값을 비교\n",
    "System.out.println(s1.equals(s2));\n",
    "System.out.println(s1 == s2);\n",
    "\n",
    "// 결과 : true, false -> why? s1, s2는 다른 주소값을 쓰기 때문\n",
    "\n",
    "System.out.println();\n",
    "\n",
    "String a1 = \"abc\";\n",
    "String a2 = \"abc\";\n",
    "\n",
    "// s1과 s2가 각각 저장된 주소 값을 비교\n",
    "System.out.println(a1.equals(a2));  // 가지고 있는 data 값이 같은가\n",
    "System.out.println(a1 == a2);       // 가지고 있는 data를 넣은 주소 값이 같은가\n",
    "\n",
    "// 결과 : true, true -> why? a1, a2는 같은 주소값을 쓰기 때문"
   ]
  },
  {
   "cell_type": "code",
   "execution_count": 7,
   "metadata": {
    "vscode": {
     "languageId": "java"
    }
   },
   "outputs": [
    {
     "name": "stdout",
     "output_type": "stream",
     "text": [
      "2, 1\n",
      "2 * 1 = 2\n",
      "2 * 2 = 4\n",
      "2 * 3 = 6\n",
      "2 * 4 = 8\n",
      "2 * 5 = 10\n",
      "2 * 6 = 12\n",
      "2 * 7 = 14\n",
      "2 * 8 = 16\n",
      "2 * 9 = 18\n",
      "\n",
      "3, 1\n",
      "3 * 1 = 3\n",
      "3 * 2 = 6\n",
      "3 * 3 = 9\n",
      "3 * 4 = 12\n",
      "3 * 5 = 15\n",
      "3 * 6 = 18\n",
      "3 * 7 = 21\n",
      "3 * 8 = 24\n",
      "3 * 9 = 27\n",
      "\n",
      "4, 1\n",
      "4 * 1 = 4\n",
      "4 * 2 = 8\n",
      "4 * 3 = 12\n",
      "4 * 4 = 16\n",
      "4 * 5 = 20\n",
      "4 * 6 = 24\n",
      "4 * 7 = 28\n",
      "4 * 8 = 32\n",
      "4 * 9 = 36\n",
      "\n",
      "5, 1\n",
      "5 * 1 = 5\n",
      "5 * 2 = 10\n",
      "5 * 3 = 15\n",
      "5 * 4 = 20\n",
      "5 * 5 = 25\n",
      "5 * 6 = 30\n",
      "5 * 7 = 35\n",
      "5 * 8 = 40\n",
      "5 * 9 = 45\n",
      "\n",
      "6, 1\n",
      "6 * 1 = 6\n",
      "6 * 2 = 12\n",
      "6 * 3 = 18\n",
      "6 * 4 = 24\n",
      "6 * 5 = 30\n",
      "6 * 6 = 36\n",
      "6 * 7 = 42\n",
      "6 * 8 = 48\n",
      "6 * 9 = 54\n",
      "\n",
      "7, 1\n",
      "7 * 1 = 7\n",
      "7 * 2 = 14\n",
      "7 * 3 = 21\n",
      "7 * 4 = 28\n",
      "7 * 5 = 35\n",
      "7 * 6 = 42\n",
      "7 * 7 = 49\n",
      "7 * 8 = 56\n",
      "7 * 9 = 63\n",
      "\n",
      "8, 1\n",
      "8 * 1 = 8\n",
      "8 * 2 = 16\n",
      "8 * 3 = 24\n",
      "8 * 4 = 32\n",
      "8 * 5 = 40\n",
      "8 * 6 = 48\n",
      "8 * 7 = 56\n",
      "8 * 8 = 64\n",
      "8 * 9 = 72\n",
      "\n",
      "9, 1\n",
      "9 * 1 = 9\n",
      "9 * 2 = 18\n",
      "9 * 3 = 27\n",
      "9 * 4 = 36\n",
      "9 * 5 = 45\n",
      "9 * 6 = 54\n",
      "9 * 7 = 63\n",
      "9 * 8 = 72\n",
      "9 * 9 = 81\n",
      "\n"
     ]
    }
   ],
   "source": [
    "int i = 2 ;\n",
    "// int j = 1; // 여기다 넣으면 i값이 늘어날때마다 j 값이 갱신이 되지 않아서 3단 이후는 쓰질 못한다\n",
    "\n",
    "while (i <= 9) {\n",
    "    int j = 1;\n",
    "    System.out.println(i+ \", \" + j);\n",
    "    while (j <= 9) {\n",
    "        System.out.println(i +  \" * \" + j + \" = \" +  i*j);\n",
    "        j += 1;\n",
    "    }\n",
    "    System.out.println();\n",
    "    i += 1;\n",
    "}"
   ]
  },
  {
   "cell_type": "code",
   "execution_count": null,
   "metadata": {
    "vscode": {
     "languageId": "java"
    }
   },
   "outputs": [
    {
     "name": "stdout",
     "output_type": "stream",
     "text": [
      "em ot smees s'ti taht elims a tog ehs\n"
     ]
    }
   ],
   "source": [
    "String target = \"she got a smile that it's seems to me\";\n",
    "String result = \"\";\n",
    "\n",
    "int i = target.length() - 1;\n",
    "\n",
    "char [] array = target.toCharArray();\n",
    "\n",
    "for(char s: array) {\n",
    "    result += array[i--];\n",
    "}\n",
    "System.out.println(result);"
   ]
  },
  {
   "cell_type": "code",
   "execution_count": 17,
   "metadata": {
    "vscode": {
     "languageId": "java"
    }
   },
   "outputs": [
    {
     "ename": "CompilationException",
     "evalue": "",
     "output_type": "error",
     "traceback": [
      "\u001b[1m\u001b[30m|   \u001b[1m\u001b[30m    if(guess *\u001b[0m\u001b[1m\u001b[30m\u001b[41m\u001b[0m\u001b[1m\u001b[30m*3 >= abs(cube)) {\u001b[0m",
      "\u001b[1m\u001b[31millegal start of expression\u001b[0m",
      ""
     ]
    }
   ],
   "source": [
    "int cube = 8;\n",
    "int iguess = 0;\n",
    "\n",
    "for(int guess = 1; guess < abs(cube + 1); guess++ ) {\n",
    "    System.out.println(1);\n",
    "    if(guess **3 >= abs(cube)) {\n",
    "        iguess = guess;\n",
    "        break;\n",
    "    }\n",
    "}\n",
    "\n",
    "if ( iguess**3 != abs(cube))\n",
    "    print(cube, 'is not a perect cube');\n",
    "else{\n",
    "    if (cube < 0)\n",
    "        iguess = -iguess;\n",
    "    print('Cube root of '+str(cube) + ' is ' +str(iguess));\n",
    "\n",
    "}"
   ]
  },
  {
   "cell_type": "code",
   "execution_count": null,
   "metadata": {
    "vscode": {
     "languageId": "java"
    }
   },
   "outputs": [],
   "source": []
  }
 ],
 "metadata": {
  "kernelspec": {
   "display_name": "Java",
   "language": "java",
   "name": "java"
  },
  "language_info": {
   "codemirror_mode": "java",
   "file_extension": ".jshell",
   "mimetype": "text/x-java-source",
   "name": "Java",
   "pygments_lexer": "java",
   "version": "11.0.20.1+1-post-Ubuntu-0ubuntu122.04"
  },
  "orig_nbformat": 4
 },
 "nbformat": 4,
 "nbformat_minor": 2
}
