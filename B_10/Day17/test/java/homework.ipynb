{
 "cells": [
  {
   "cell_type": "code",
   "execution_count": 44,
   "metadata": {},
   "outputs": [
    {
     "name": "stdout",
     "output_type": "stream",
     "text": [
      "시도 횟수 = 4\n",
      "들어갈 위치 = 15\n",
      "\n"
     ]
    }
   ],
   "source": [
    "int x = 16;\n",
    "\n",
    "int [] nums = {1,2,3,4,5,6,7,8,9,10,11,12,13,14,15,16,17};\n",
    "int number = 0;\n",
    "int low = 0;    // 젤 처음 배열 위치\n",
    "int high = nums.length -1;    // 젤 마지막 배열 위치\n",
    "\n",
    "int guess = (low + high) /2;    // \n",
    "\n",
    "// System.out.println(\"guess = \" + guess+\"\\n\");\n",
    "while(high - low > 1) {\n",
    "    if(nums[guess] < x) {\n",
    "        low = guess;\n",
    "    }\n",
    "    else{\n",
    "        high = guess;\n",
    "    }\n",
    "    \n",
    "    number++;\n",
    "    guess = (low + high) / 2;\n",
    "    // System.out.println(\"number = \" + number);\n",
    "    // System.out.println(\"low, high = \" + low + \", \" + high);\n",
    "    \n",
    "    // System.out.println(\"guess = \" + guess+\"\\n\");\n",
    "}\n",
    "\n",
    "\n",
    "System.out.println(\"시도 횟수 = \" + number);\n",
    "System.out.println(\"들어갈 위치 = \" + (guess + 1) +\"\\n\");"
   ]
  },
  {
   "cell_type": "code",
   "execution_count": null,
   "metadata": {},
   "outputs": [],
   "source": [
    "int x = 16;\n",
    "\n",
    "int [] nums = {1,2,3,4,5,6,7,8,9,10,11,12,13,14,15,16,17};\n",
    "int number = 0;\n",
    "int low = 0;    // 젤 처음 배열 위치\n",
    "int high = nums.length -1;    // 젤 마지막 배열 위치\n",
    "\n",
    "int guess = (low + high) /2;    // \n",
    "\n",
    "System.out.println(((double)(low + high)));\n",
    "while(high - low > 1) {\n",
    "    if(nums[guess] < x) {\n",
    "        low = guess;\n",
    "    }\n",
    "    else{\n",
    "        high = guess;\n",
    "    }\n",
    "    \n",
    "    number++;\n",
    "    guess = Math.ceil(((double)(low + high)) / (double)2);  // ...? 뭐임 왜 안됌?\n",
    "    System.out.println(\"number = \" + number);\n",
    "    System.out.println(\"low, high = \" + low + \", \" + high);\n",
    "    \n",
    "    System.out.println(\"guess = \" + guess+\"\\n\");\n",
    "}\n",
    "\n",
    "\n",
    "System.out.println(\"시도 횟수 = \" + number);\n",
    "System.out.println(\"들어갈 위치 = \" + guess+\"\\n\");"
   ]
  }
 ],
 "metadata": {
  "kernelspec": {
   "display_name": "Java",
   "language": "java",
   "name": "java"
  },
  "language_info": {
   "name": "java"
  },
  "orig_nbformat": 4
 },
 "nbformat": 4,
 "nbformat_minor": 2
}
