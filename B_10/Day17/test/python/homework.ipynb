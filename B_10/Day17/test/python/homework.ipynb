{
 "cells": [
  {
   "cell_type": "code",
   "execution_count": 16,
   "metadata": {},
   "outputs": [
    {
     "name": "stdout",
     "output_type": "stream",
     "text": [
      "number =  3\n",
      "11 nums[guess] 25 22\n"
     ]
    }
   ],
   "source": [
    "x = 22              # 찾으려는 수\n",
    "nums = [1,2,3,5,6,8,13,15,16,17,19,25,28,30]    # 14\n",
    "\n",
    "low = 0             # 범위 처음 위치\n",
    "high = len(nums) -1   # 범위 마지막 위치\n",
    "number = 0\n",
    "guess = (low + high) // 2  # 범위 중간 값\n",
    "\n",
    "while True:\n",
    "    if nums[guess] < x:\n",
    "        low = guess\n",
    "    else:\n",
    "        high = guess\n",
    "    if high - low <= 1 :\n",
    "        break\n",
    "\n",
    "    guess = (low + high) // 2  # 범위 중간 값\n",
    "    number += 1\n",
    "guess = guess+1\n",
    "print(\"number = \", number)\n",
    "print(guess, 'nums[guess]', nums[guess], x)\n"
   ]
  },
  {
   "cell_type": "code",
   "execution_count": 18,
   "metadata": {},
   "outputs": [
    {
     "name": "stdout",
     "output_type": "stream",
     "text": [
      "number =  4\n",
      "16 nums[guess] 17 16\n"
     ]
    }
   ],
   "source": [
    "x = 16              # 찾으려는 수\n",
    "nums = [1,2,3,4,5,6,7,8,9,10,11,12,13,14,15,16,17]    # 14\n",
    "\n",
    "low = 0             # 범위 처음 위치\n",
    "high = len(nums) -1   # 범위 마지막 위치\n",
    "number = 0\n",
    "guess = (low + high) // 2  # 범위 중간 값\n",
    "\n",
    "while True:\n",
    "    if nums[guess] < x:\n",
    "        low = guess\n",
    "    else:\n",
    "        high = guess\n",
    "    if high - low <= 1 :\n",
    "        break\n",
    "\n",
    "    guess = (low + high) // 2  # 범위 중간 값\n",
    "    number += 1\n",
    "guess = guess+1\n",
    "number += 1\n",
    "\n",
    "print(\"number = \", number)\n",
    "print(guess, 'nums[guess]', nums[guess], x)"
   ]
  },
  {
   "cell_type": "code",
   "execution_count": null,
   "metadata": {},
   "outputs": [],
   "source": []
  }
 ],
 "metadata": {
  "kernelspec": {
   "display_name": "base",
   "language": "python",
   "name": "python3"
  },
  "language_info": {
   "codemirror_mode": {
    "name": "ipython",
    "version": 3
   },
   "file_extension": ".py",
   "mimetype": "text/x-python",
   "name": "python",
   "nbconvert_exporter": "python",
   "pygments_lexer": "ipython3",
   "version": "3.9.12"
  },
  "orig_nbformat": 4
 },
 "nbformat": 4,
 "nbformat_minor": 2
}
