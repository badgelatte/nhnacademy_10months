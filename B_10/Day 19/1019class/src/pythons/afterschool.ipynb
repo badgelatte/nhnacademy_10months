{
 "cells": [
  {
   "cell_type": "markdown",
   "metadata": {},
   "source": [
    "Module 04------------------------------------------------------------------\n",
    "class-python_programming/Module 04 Decomposition, Abstraction, and Functions\n",
    "/Module 04 Decomposition, Abstraction, and Functions.adoc\n",
    "자료에 arguments로서의 함수를 한 것이다"
   ]
  },
  {
   "cell_type": "code",
   "execution_count": 2,
   "metadata": {},
   "outputs": [
    {
     "name": "stdout",
     "output_type": "stream",
     "text": [
      "inside funca\n",
      "None \n",
      "\n",
      "inside funcb\n",
      "7 \n",
      "\n",
      "inside funcc\n",
      "inside funca\n",
      "None\n"
     ]
    }
   ],
   "source": [
    "def funca():\n",
    "    print ('inside funca')\n",
    "def funcb(y):\n",
    "    print ('inside funcb')\n",
    "    return y\n",
    "def funcc(z) :\n",
    "    print('inside funcc')\n",
    "    return z()\n",
    "\n",
    "print (funca(),\"\\n\")\n",
    "\n",
    "print(5 + funcb(2),\"\\n\")\n",
    "\n",
    "print(funcc(funca))"
   ]
  },
  {
   "cell_type": "code",
   "execution_count": 9,
   "metadata": {},
   "outputs": [
    {
     "name": "stdout",
     "output_type": "stream",
     "text": [
      "2\n",
      "5\n"
     ]
    }
   ],
   "source": [
    "def f(x):\n",
    "    x = 1   # x는 f의 범위에서 재정의 됨\n",
    "    x += 1\n",
    "    print(x)\n",
    "\n",
    "x = 5       # 다른 x 객체\n",
    "f(x)\n",
    "print(x)"
   ]
  },
  {
   "cell_type": "code",
   "execution_count": 14,
   "metadata": {},
   "outputs": [
    {
     "name": "stdout",
     "output_type": "stream",
     "text": [
      "5\n",
      "6\n",
      "\n",
      "5\n"
     ]
    }
   ],
   "source": [
    "def g(x):\n",
    "    print(x)        # g 내의 x 객체\n",
    "    print(x + 1)    # g 내의 x 객체\n",
    "\n",
    "x = 5   # g 내부의 x는 함수 g를 호출한 범위에서 선택됨\n",
    "g(x)\n",
    "# print(g(x))\n",
    "print()\n",
    "print(x)"
   ]
  },
  {
   "cell_type": "code",
   "execution_count": 8,
   "metadata": {},
   "outputs": [
    {
     "name": "stdout",
     "output_type": "stream",
     "text": [
      "None\n",
      "5\n"
     ]
    }
   ],
   "source": [
    "# return 해주지 않았기 때문에 h(x)에 값이 들어가도 h(x)가 실행된 값으로 출력되지 않고 none으로 출력된다\n",
    "\n",
    "def h(x):\n",
    "    x += 1\n",
    "\n",
    "x = 5\n",
    "h(x)\n",
    "# print(h(x))\n",
    "print(x)"
   ]
  },
  {
   "cell_type": "markdown",
   "metadata": {},
   "source": [
    "Module 05---------------------------------------------------------------------------"
   ]
  },
  {
   "cell_type": "code",
   "execution_count": 4,
   "metadata": {},
   "outputs": [
    {
     "data": {
      "text/plain": [
       "('1', '4', 3)"
      ]
     },
     "execution_count": 4,
     "metadata": {},
     "output_type": "execute_result"
    }
   ],
   "source": [
    "def get_data(aTuple):\n",
    "    nums = ()   # empty tuple\n",
    "    words = ()\n",
    "    for t in aTuple:\n",
    "        nums = nums + (t[0], )  # singleton tuple\n",
    "        if t[1] not in words:\n",
    "            words = words + (t[1],)\n",
    "    min_n = min(nums)\n",
    "    max_n = max(nums)\n",
    "    unique_words = len(words)\n",
    "    return (min_n, max_n, unique_words)\n",
    "\n",
    "get_data((\"1a\", \"2b\", \"3c\", \"4a\"))"
   ]
  },
  {
   "cell_type": "code",
   "execution_count": null,
   "metadata": {},
   "outputs": [],
   "source": []
  }
 ],
 "metadata": {
  "kernelspec": {
   "display_name": "base",
   "language": "python",
   "name": "python3"
  },
  "language_info": {
   "codemirror_mode": {
    "name": "ipython",
    "version": 3
   },
   "file_extension": ".py",
   "mimetype": "text/x-python",
   "name": "python",
   "nbconvert_exporter": "python",
   "pygments_lexer": "ipython3",
   "version": "3.9.12"
  },
  "orig_nbformat": 4
 },
 "nbformat": 4,
 "nbformat_minor": 2
}
