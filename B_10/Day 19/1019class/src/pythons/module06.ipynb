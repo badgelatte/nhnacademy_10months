{
 "cells": [
  {
   "cell_type": "code",
   "execution_count": 30,
   "metadata": {},
   "outputs": [
    {
     "data": {
      "text/plain": [
       "6"
      ]
     },
     "execution_count": 30,
     "metadata": {},
     "output_type": "execute_result"
    }
   ],
   "source": [
    "def mult_iter(a,b):\n",
    "    result = 0\n",
    "    while b > 0:\n",
    "        result += a\n",
    "        b -= 1\n",
    "    return result\n",
    "\n",
    "mult_iter(2,3)"
   ]
  },
  {
   "cell_type": "code",
   "execution_count": 31,
   "metadata": {},
   "outputs": [
    {
     "data": {
      "text/plain": [
       "6"
      ]
     },
     "execution_count": 31,
     "metadata": {},
     "output_type": "execute_result"
    }
   ],
   "source": [
    "def mult(a, b):\n",
    "    if b == 1:      # base case\n",
    "        return a\n",
    "    else:\n",
    "        return a + mult(a, b - 1)   # recursive step\n",
    "\n",
    "mult(2,3)"
   ]
  },
  {
   "cell_type": "code",
   "execution_count": 43,
   "metadata": {},
   "outputs": [
    {
     "name": "stdout",
     "output_type": "stream",
     "text": [
      "AbCdE\n",
      "well done\n"
     ]
    }
   ],
   "source": [
    "# def changeLetter(target, result, loc):\n",
    "def changeLetter(target, result = '', loc = 0):\n",
    "\n",
    "    if (len(result) == len(target)):\n",
    "        return result\n",
    "    else:\n",
    "        if (ord(target[loc]) in range(97, 122)):\n",
    "            result = result + chr(ord(target[loc]) - 32)\n",
    "        else :\n",
    "            result = result + chr(ord(target[loc]) + 32)\n",
    "        return changeLetter(target, result, loc + 1)\n",
    "    \n",
    "s = 'aBcDe'\n",
    "\n",
    "answer = 'AbCdE'\n",
    "# print(changeLetter(s, '', 0))\n",
    "print(changeLetter(s))\n",
    "\n",
    "if (answer == changeLetter(s, '', 0)):\n",
    "    print('well done')\n",
    "else:\n",
    "    print('damm!')"
   ]
  },
  {
   "cell_type": "code",
   "execution_count": 40,
   "metadata": {},
   "outputs": [
    {
     "name": "stdout",
     "output_type": "stream",
     "text": [
      "2 1 2\n",
      "2 2 4\n",
      "2 3 6\n",
      "2 4 8\n",
      "2 5 10\n",
      "2 6 12\n",
      "2 7 14\n",
      "2 8 16\n",
      "2 9 18\n"
     ]
    }
   ],
   "source": [
    "\n",
    "def multipifcation(times, number = 1) :\n",
    "    if(number > 9) :\n",
    "        return \n",
    "    else:\n",
    "        print(times, number, times * number)\n",
    "        multipifcation(times, number+1)\n",
    "\n",
    "multipifcation(2)"
   ]
  },
  {
   "cell_type": "code",
   "execution_count": 18,
   "metadata": {},
   "outputs": [
    {
     "name": "stdout",
     "output_type": "stream",
     "text": [
      "2 1 2\n",
      "2 2 4\n",
      "2 3 6\n",
      "2 4 8\n",
      "2 5 10\n",
      "2 6 12\n",
      "2 7 14\n",
      "2 8 16\n",
      "2 9 18\n",
      "3 1 3\n",
      "3 2 6\n",
      "3 3 9\n",
      "3 4 12\n",
      "3 5 15\n",
      "3 6 18\n",
      "3 7 21\n",
      "3 8 24\n",
      "3 9 27\n",
      "4 1 4\n",
      "4 2 8\n",
      "4 3 12\n",
      "4 4 16\n",
      "4 5 20\n",
      "4 6 24\n",
      "4 7 28\n",
      "4 8 32\n",
      "4 9 36\n",
      "5 1 5\n",
      "5 2 10\n",
      "5 3 15\n",
      "5 4 20\n",
      "5 5 25\n",
      "5 6 30\n",
      "5 7 35\n",
      "5 8 40\n",
      "5 9 45\n",
      "6 1 6\n",
      "6 2 12\n",
      "6 3 18\n",
      "6 4 24\n",
      "6 5 30\n",
      "6 6 36\n",
      "6 7 42\n",
      "6 8 48\n",
      "6 9 54\n",
      "7 1 7\n",
      "7 2 14\n",
      "7 3 21\n",
      "7 4 28\n",
      "7 5 35\n",
      "7 6 42\n",
      "7 7 49\n",
      "7 8 56\n",
      "7 9 63\n",
      "8 1 8\n",
      "8 2 16\n",
      "8 3 24\n",
      "8 4 32\n",
      "8 5 40\n",
      "8 6 48\n",
      "8 7 56\n",
      "8 8 64\n",
      "8 9 72\n",
      "9 1 9\n",
      "9 2 18\n",
      "9 3 27\n",
      "9 4 36\n",
      "9 5 45\n",
      "9 6 54\n",
      "9 7 63\n",
      "9 8 72\n",
      "9 9 81\n",
      "10 1 10\n",
      "10 2 20\n",
      "10 3 30\n",
      "10 4 40\n",
      "10 5 50\n",
      "10 6 60\n",
      "10 7 70\n",
      "10 8 80\n",
      "10 9 90\n",
      "11 1 11\n",
      "11 2 22\n",
      "11 3 33\n",
      "11 4 44\n",
      "11 5 55\n",
      "11 6 66\n",
      "11 7 77\n",
      "11 8 88\n",
      "11 9 99\n",
      "12 1 12\n",
      "12 2 24\n",
      "12 3 36\n",
      "12 4 48\n",
      "12 5 60\n",
      "12 6 72\n",
      "12 7 84\n",
      "12 8 96\n",
      "12 9 108\n",
      "13 1 13\n",
      "13 2 26\n",
      "13 3 39\n",
      "13 4 52\n",
      "13 5 65\n",
      "13 6 78\n",
      "13 7 91\n",
      "13 8 104\n",
      "13 9 117\n",
      "14 1 14\n",
      "14 2 28\n",
      "14 3 42\n",
      "14 4 56\n",
      "14 5 70\n",
      "14 6 84\n",
      "14 7 98\n",
      "14 8 112\n",
      "14 9 126\n",
      "15 1 15\n",
      "15 2 30\n",
      "15 3 45\n",
      "15 4 60\n",
      "15 5 75\n",
      "15 6 90\n",
      "15 7 105\n",
      "15 8 120\n",
      "15 9 135\n",
      "16 1 16\n",
      "16 2 32\n",
      "16 3 48\n",
      "16 4 64\n",
      "16 5 80\n",
      "16 6 96\n",
      "16 7 112\n",
      "16 8 128\n",
      "16 9 144\n",
      "17 1 17\n",
      "17 2 34\n",
      "17 3 51\n",
      "17 4 68\n",
      "17 5 85\n",
      "17 6 102\n",
      "17 7 119\n",
      "17 8 136\n",
      "17 9 153\n",
      "18 1 18\n",
      "18 2 36\n",
      "18 3 54\n",
      "18 4 72\n",
      "18 5 90\n",
      "18 6 108\n",
      "18 7 126\n",
      "18 8 144\n",
      "18 9 162\n",
      "19 1 19\n",
      "19 2 38\n",
      "19 3 57\n",
      "19 4 76\n",
      "19 5 95\n",
      "19 6 114\n",
      "19 7 133\n",
      "19 8 152\n",
      "19 9 171\n"
     ]
    }
   ],
   "source": [
    "def multipifcation(times, number = 1) :\n",
    "    if(number > 9) :\n",
    "        return \n",
    "    else:\n",
    "        print(times, number, times * number)\n",
    "        multipifcation(times, number+1)\n",
    "\n",
    "def multipifcationTable(tableNo = 2, limit = 9):\n",
    "    if (tableNo > limit):\n",
    "        return\n",
    "    else:\n",
    "        multipifcation(tableNo)\n",
    "        multipifcationTable(tableNo + 1, limit)\n",
    "\n",
    "multipifcationTable(limit = 19)"
   ]
  },
  {
   "cell_type": "code",
   "execution_count": 16,
   "metadata": {},
   "outputs": [
    {
     "name": "stdout",
     "output_type": "stream",
     "text": [
      "2\n",
      "3\n",
      "5\n",
      "7\n"
     ]
    }
   ],
   "source": [
    "x= 10\n",
    "# 이렇게 따로 기능별로 만든 것을 캡슐화라고 한다\n",
    "def isPrime(number):\n",
    "    for i in range(2, number):\n",
    "        if (number % i == 0):\n",
    "            return False\n",
    "    return True\n",
    "\n",
    "def getPrimesInRange(start, end):\n",
    "    if start == 1:\n",
    "        start = 2\n",
    "    for i in range(start, end):\n",
    "        if(isPrime(i)):\n",
    "            print(i)\n",
    "\n",
    "getPrimesInRange(1, 10)\n",
    "\n",
    "# for i in range(2, x+1): # 값 던지기\n",
    "#     for j in range(2, i+1) : # 값 판별하기\n",
    "#         if (i == j) :\n",
    "#             print(i)\n",
    "#         if(i % j == 0):\n",
    "#             break"
   ]
  },
  {
   "cell_type": "code",
   "execution_count": 74,
   "metadata": {},
   "outputs": [
    {
     "name": "stdout",
     "output_type": "stream",
     "text": [
      "2\n",
      "3\n",
      "5\n",
      "7\n"
     ]
    }
   ],
   "source": [
    "x= 10\n",
    "# 이렇게 따로 기능별로 만든 것을 캡슐화라고 한다\n",
    "def isPrime(number, count = 2): # 주어진 number가 소수가 맞는가 확인\n",
    "    if number < count:\n",
    "        return\n",
    "    if number == count :\n",
    "        print(count)\n",
    "    elif number % count == 0:   # number가 count로 나눠줬으면 거기서 탈출, 나가야한다\n",
    "        return\n",
    "    else :\n",
    "        isPrime(number, count+1)\n",
    "\n",
    "def getPrimesInRange(start, end):   # start부터 end까지 소수 모두 찾아내기\n",
    "    if start == 1:\n",
    "        start = 2\n",
    "    for i in range(start, end):\n",
    "        if(isPrime(i)):\n",
    "            print(i)\n",
    "\n",
    "getPrimesInRange(1, 10)"
   ]
  },
  {
   "cell_type": "code",
   "execution_count": 59,
   "metadata": {},
   "outputs": [
    {
     "name": "stdout",
     "output_type": "stream",
     "text": [
      "2\n",
      "5\n"
     ]
    }
   ],
   "source": [
    "def primeFactors(number, i = 2):\n",
    "    if number <= i :\n",
    "        return\n",
    "    if (number % i == 0):\n",
    "        print(i)\n",
    "        primeFactors(number, i+1)\n",
    "    else:\n",
    "        primeFactors(number, i+1)\n",
    "\n",
    "primeFactors(10)"
   ]
  },
  {
   "cell_type": "code",
   "execution_count": 11,
   "metadata": {},
   "outputs": [
    {
     "name": "stdout",
     "output_type": "stream",
     "text": [
      "10\n",
      "9\n",
      "8\n",
      "7\n",
      "6\n",
      "5\n",
      "4\n",
      "3\n",
      "2\n",
      "1\n"
     ]
    }
   ],
   "source": [
    "def rec(a):\n",
    "    if(a==0):\n",
    "        return\n",
    "    else :\n",
    "        print(a)\n",
    "        rec(a-1)\n",
    "        \n",
    "rec(10)"
   ]
  },
  {
   "cell_type": "code",
   "execution_count": 12,
   "metadata": {},
   "outputs": [
    {
     "name": "stdout",
     "output_type": "stream",
     "text": [
      "10\n",
      "9\n",
      "8\n",
      "7\n",
      "6\n",
      "5\n",
      "4\n",
      "3\n",
      "2\n",
      "1\n",
      "if return  0\n",
      "else return  1\n",
      "else return  2\n",
      "else return  3\n",
      "else return  4\n",
      "else return  5\n",
      "else return  6\n",
      "else return  7\n",
      "else return  8\n",
      "else return  9\n",
      "else return  10\n"
     ]
    }
   ],
   "source": [
    "def rec(a):\n",
    "    if(a==0):\n",
    "        print(\"if return \", a)\n",
    "        return\n",
    "    else :\n",
    "        print(a)\n",
    "        rec(a-1)\n",
    "        print(\"else return \", a)    # return을 주면 끝나는 지점에서부터 밑으로 내려간다 근데 rec(a)가 반복문이 아니기 때문에 밑으로 내려가면 끝난다\n",
    "        \n",
    "rec(10)"
   ]
  },
  {
   "cell_type": "code",
   "execution_count": 8,
   "metadata": {},
   "outputs": [
    {
     "name": "stdout",
     "output_type": "stream",
     "text": [
      "1\n",
      "2\n",
      "3\n",
      "4\n",
      "5\n",
      "6\n",
      "7\n",
      "8\n",
      "9\n"
     ]
    }
   ],
   "source": [
    "def iter(a):\n",
    "    for i in range(1, a):\n",
    "        print(i)\n",
    "\n",
    "iter(10)"
   ]
  },
  {
   "cell_type": "code",
   "execution_count": 53,
   "metadata": {},
   "outputs": [
    {
     "data": {
      "text/plain": [
       "55"
      ]
     },
     "execution_count": 53,
     "metadata": {},
     "output_type": "execute_result"
    }
   ],
   "source": [
    "def fib(x):\n",
    "    \"\"\" assimes x at int >= 0\n",
    "        returns Fibinacci of x \"\"\"\n",
    "    if x == 0 or x == 1:\n",
    "        return 1\n",
    "    else:\n",
    "        return fib(x - 1) + fib(x - 2)\n",
    "    \n",
    "fib(10)"
   ]
  },
  {
   "cell_type": "code",
   "execution_count": 51,
   "metadata": {},
   "outputs": [
    {
     "name": "stdout",
     "output_type": "stream",
     "text": [
      "result 2 :  2\n",
      "result 3 :  3\n",
      "result 4 :  5\n",
      "result 5 :  8\n",
      "result 6 :  13\n",
      "result 7 :  21\n",
      "result 8 :  34\n",
      "result 9 :  55\n"
     ]
    },
    {
     "data": {
      "text/plain": [
       "55"
      ]
     },
     "execution_count": 51,
     "metadata": {},
     "output_type": "execute_result"
    }
   ],
   "source": [
    "# 수학에서 피보나치 수는 첫째 및 둘째 항이 1이며 그 뒤의 모든 항은 바로 앞 두 항의 합인 수열이다.\n",
    "\n",
    "def fibonacci(x):\n",
    "    prev = 1\n",
    "    pprev = 1\n",
    "\n",
    "    if x == 1 or x == 2:\n",
    "        return 1\n",
    "    \n",
    "    for i in range(2,x):    # i는 횟수 세기에만 사용\n",
    "        result = prev + pprev\n",
    "        pprev = prev\n",
    "        prev = result\n",
    "        print(\"result\",i, \": \", result)\n",
    "\n",
    "    return result\n",
    "fibonacci(10)"
   ]
  },
  {
   "cell_type": "code",
   "execution_count": 89,
   "metadata": {},
   "outputs": [
    {
     "name": "stdout",
     "output_type": "stream",
     "text": [
      "None\n"
     ]
    }
   ],
   "source": [
    "def isPelindrom(s):\n",
    "    def toChars(s):\n",
    "        s = lower()\n",
    "        ans = 'x'\n",
    "        for c in s:\n",
    "            if c in 'abcdefghijklmnopqrstuvwxyz':\n",
    "                ans = ans + c\n",
    "        return ans\n",
    "    \n",
    "    def isPal(s):\n",
    "        if len(s) <= 1:\n",
    "            return True\n",
    "        else :\n",
    "            return s[0] == s[-1] and isPal(s[-1:1])\n",
    "print(isPelindrom('xdd') )\n",
    "\n",
    "# def isPalindrom(s):\n",
    "#     def toChars(s):\n",
    "#         s = lower()\n",
    "#         ans = ''\n",
    "#         for c in s:\n",
    "#             if c in 'abcdefghijklmnopqrstuvwxyz':\n",
    "#                 ans = ans + c\n",
    "#         return ans\n",
    "\n",
    "#     def isPal(s):\n",
    "#         if len(s) <= 1:\n",
    "#             return True\n",
    "#         else:\n",
    "#             return s[0] == s[-1] and isPal(s[1:-1])\n",
    "\n",
    "#     return isPal(toChars(s))\n",
    "\n",
    "# isPalindrom('s')\n",
    "\n",
    "# sd = 'asedfgh'\n",
    "# print(sd[-1] and sd[1:-1])"
   ]
  },
  {
   "cell_type": "code",
   "execution_count": null,
   "metadata": {},
   "outputs": [],
   "source": []
  }
 ],
 "metadata": {
  "kernelspec": {
   "display_name": "base",
   "language": "python",
   "name": "python3"
  },
  "language_info": {
   "codemirror_mode": {
    "name": "ipython",
    "version": 3
   },
   "file_extension": ".py",
   "mimetype": "text/x-python",
   "name": "python",
   "nbconvert_exporter": "python",
   "pygments_lexer": "ipython3",
   "version": "3.9.12"
  },
  "orig_nbformat": 4
 },
 "nbformat": 4,
 "nbformat_minor": 2
}
