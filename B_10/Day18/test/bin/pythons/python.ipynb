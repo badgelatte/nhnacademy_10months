{
 "cells": [
  {
   "cell_type": "code",
   "execution_count": 11,
   "metadata": {},
   "outputs": [
    {
     "name": "stdout",
     "output_type": "stream",
     "text": [
      "aBcDeF\n"
     ]
    }
   ],
   "source": [
    "target = \"AbCdEf\"\n",
    "\n",
    "\n",
    "def changeLetters(target) :\n",
    "    \"\"\"\n",
    "    전달받은 문자열의 대 소문자를 변환합니다. (예: AbC -> aBc)\n",
    "    input: 원래 문자열\n",
    "    output: 대소문자가 변환된 문자열\n",
    "    \"\"\"\n",
    "    result = \"\"\n",
    "    for s in target:\n",
    "        if ord(s) in range(97, 122):\n",
    "            result = result + chr(ord(s)-32)\n",
    "        else :\n",
    "            result = result + chr(ord(s)+32)\n",
    "    return result\n",
    "\n",
    "print(changeLetters(target))"
   ]
  },
  {
   "cell_type": "code",
   "execution_count": 12,
   "metadata": {},
   "outputs": [
    {
     "name": "stdout",
     "output_type": "stream",
     "text": [
      "2 1 2\n",
      "2 2 4\n",
      "2 3 6\n",
      "2 4 8\n",
      "2 5 10\n",
      "2 6 12\n",
      "2 7 14\n",
      "2 8 16\n",
      "2 9 18\n",
      "3 1 3\n",
      "3 2 6\n",
      "3 3 9\n",
      "3 4 12\n",
      "3 5 15\n",
      "3 6 18\n",
      "3 7 21\n",
      "3 8 24\n",
      "3 9 27\n",
      "4 1 4\n",
      "4 2 8\n",
      "4 3 12\n",
      "4 4 16\n",
      "4 5 20\n",
      "4 6 24\n",
      "4 7 28\n",
      "4 8 32\n",
      "4 9 36\n",
      "5 1 5\n",
      "5 2 10\n",
      "5 3 15\n",
      "5 4 20\n",
      "5 5 25\n",
      "5 6 30\n",
      "5 7 35\n",
      "5 8 40\n",
      "5 9 45\n",
      "6 1 6\n",
      "6 2 12\n",
      "6 3 18\n",
      "6 4 24\n",
      "6 5 30\n",
      "6 6 36\n",
      "6 7 42\n",
      "6 8 48\n",
      "6 9 54\n",
      "7 1 7\n",
      "7 2 14\n",
      "7 3 21\n",
      "7 4 28\n",
      "7 5 35\n",
      "7 6 42\n",
      "7 7 49\n",
      "7 8 56\n",
      "7 9 63\n",
      "8 1 8\n",
      "8 2 16\n",
      "8 3 24\n",
      "8 4 32\n",
      "8 5 40\n",
      "8 6 48\n",
      "8 7 56\n",
      "8 8 64\n",
      "8 9 72\n",
      "9 1 9\n",
      "9 2 18\n",
      "9 3 27\n",
      "9 4 36\n",
      "9 5 45\n",
      "9 6 54\n",
      "9 7 63\n",
      "9 8 72\n",
      "9 9 81\n",
      "None\n"
     ]
    }
   ],
   "source": [
    "def multification(times):\n",
    "    \"\"\"\n",
    "    전달받은 값에 해당하는 구구단 표를 출력합니다\n",
    "    input: 구구단의 단(예: 2: 2단, 3: 3단)\n",
    "    \"\"\"\n",
    "    for i in range(1, 10):\n",
    "        print(times, i, i* times)\n",
    "\n",
    "def multificationTble():\n",
    "    for i in range(2, 10):\n",
    "        multification(i)\n",
    "\n",
    "print(multificationTble())\n",
    "# multificationTable()의 return값이 없기 때문에 마지막에 None이 나온다\n",
    "\n",
    "\n",
    "\n",
    "# i = 2\n",
    "\n",
    "# while i <= 9:\n",
    "#     j = 1\n",
    "#     while j <= 9:\n",
    "#         print(i, j, i*j)\n",
    "#         j += 1\n",
    "#     i += 1\n",
    "\n"
   ]
  },
  {
   "cell_type": "code",
   "execution_count": 13,
   "metadata": {},
   "outputs": [
    {
     "name": "stdout",
     "output_type": "stream",
     "text": [
      "2\n",
      "3\n",
      "5\n",
      "7\n"
     ]
    }
   ],
   "source": [
    "x= 10\n",
    "# 이렇게 따로 기능별로 만든 것을 캡슐화라고 한다\n",
    "def isPrime(number):\n",
    "    for i in range(2, number):\n",
    "        if (number % i == 0):\n",
    "            return False\n",
    "    return True\n",
    "\n",
    "def getPrimesInRange(start, end):\n",
    "    if start == 1:\n",
    "        start = 2\n",
    "    for i in range(start, end):\n",
    "        if(isPrime(i)):\n",
    "            print(i)\n",
    "\n",
    "getPrimesInRange(1, 10)\n",
    "\n",
    "# for i in range(2, x+1): # 값 던지기\n",
    "#     for j in range(2, i+1) : # 값 판별하기\n",
    "#         if (i == j) :\n",
    "#             print(i)\n",
    "#         if(i % j == 0):\n",
    "#             break"
   ]
  },
  {
   "cell_type": "code",
   "execution_count": 2,
   "metadata": {},
   "outputs": [
    {
     "data": {
      "text/plain": [
       "(2, 5)"
      ]
     },
     "execution_count": 2,
     "metadata": {},
     "output_type": "execute_result"
    }
   ],
   "source": [
    "x = 10\n",
    "\n",
    "def primeFactors(number):\n",
    "    list = []\n",
    "    \n",
    "    for i in range(2, x):\n",
    "        if number % i == 0:\n",
    "            list.append(i)\n",
    "            # list[len(list):] = [i] \n",
    "            # list[list의 길이] - list의 맨마지막 위치에 i를 넣겠다\n",
    "            # list.append(i)와 같다\n",
    "            number = number //i\n",
    "    return tuple(list)\n",
    "\n",
    "primeFactors(10)\n"
   ]
  },
  {
   "cell_type": "code",
   "execution_count": 3,
   "metadata": {},
   "outputs": [
    {
     "name": "stdout",
     "output_type": "stream",
     "text": [
      "it's exam\n"
     ]
    },
    {
     "data": {
      "text/plain": [
       "3"
      ]
     },
     "execution_count": 3,
     "metadata": {},
     "output_type": "execute_result"
    }
   ],
   "source": [
    "def exam(a, b):\n",
    "    a()\n",
    "    b += 1\n",
    "    return b\n",
    "\n",
    "def exam2():\n",
    "    print(\"it's exam\")\n",
    "\n",
    "exam(exam2, 2)"
   ]
  },
  {
   "cell_type": "code",
   "execution_count": 13,
   "metadata": {},
   "outputs": [
    {
     "data": {
      "text/plain": [
       "2"
      ]
     },
     "execution_count": 13,
     "metadata": {},
     "output_type": "execute_result"
    }
   ],
   "source": [
    "def add(a, b):\n",
    "    return a + b\n",
    "\n",
    "def mult(a, b):\n",
    "    return a * b\n",
    "\n",
    "\n",
    "def exam(a, b, c):\n",
    "    return a(b, c)\n",
    "# a = operation/ b,c = value\n",
    "\n",
    "# a = lambda a, b: a + b \n",
    "\n",
    "#lambda가 java에선 functional interface 여야 한다\n",
    "exam(lambda a, b: a * b , 1, 2)"
   ]
  },
  {
   "cell_type": "code",
   "execution_count": 10,
   "metadata": {},
   "outputs": [
    {
     "data": {
      "text/plain": [
       "[4, 5, 6, 7, 8, 9, 10, 11, 12]"
      ]
     },
     "execution_count": 10,
     "metadata": {},
     "output_type": "execute_result"
    }
   ],
   "source": [
    "ints = list(range(1,10))\n",
    "\n",
    "def changeElement(map, iterable):\n",
    "    result = []\n",
    "    for i in iterable:\n",
    "        result.append(map(i))\n",
    "    return result\n",
    "\n",
    "def add(a):\n",
    "    return a + 1\n",
    "\n",
    "ints = changeElement(lambda x: x + 3, ints)\n",
    "\n",
    "ints\n"
   ]
  },
  {
   "cell_type": "code",
   "execution_count": 13,
   "metadata": {},
   "outputs": [
    {
     "name": "stdout",
     "output_type": "stream",
     "text": [
      "1\n",
      "1\n",
      "['red', 'yellow', 'orange', 'pink']\n",
      "['red', 'yellow', 'orange', 'pink']\n"
     ]
    }
   ],
   "source": [
    "a = 1\n",
    "b = a\n",
    "print(a)\n",
    "print(b)\n",
    "warm = ['red', 'yellow', 'orange']\n",
    "hot = warm\n",
    "hot.append('pink')\n",
    "print(hot)\n",
    "print(warm)"
   ]
  },
  {
   "cell_type": "code",
   "execution_count": 41,
   "metadata": {},
   "outputs": [
    {
     "data": {
      "text/plain": [
       "('mit', 3)"
      ]
     },
     "execution_count": 41,
     "metadata": {},
     "output_type": "execute_result"
    }
   ],
   "source": [
    "te = ()     # empty tuple\n",
    "t = (2, \"mit\", 3)\n",
    "# t[0]\n",
    "t = (2, \"mit\", 3) + (5, 6)  # -> (2, 'mit', 3, 5, 6)\n",
    "# t[1:2]  # -> ('mit',)\n",
    "t[1:3]      # -> ('mit', 3)\n",
    "# len(t)\n",
    "# t[1] = 4"
   ]
  },
  {
   "cell_type": "code",
   "execution_count": 44,
   "metadata": {},
   "outputs": [
    {
     "data": {
      "text/plain": [
       "(0, 4)"
      ]
     },
     "execution_count": 44,
     "metadata": {},
     "output_type": "execute_result"
    }
   ],
   "source": [
    "def quotient_and_reminder(x, y):\n",
    "    q = x // y  # integer division\n",
    "    r = x % y\n",
    "    return (q, r)\n",
    "(quot, rem) = quotient_and_reminder(4, 5)\n",
    "(quot, rem) # -> 4 나누기 5의 몫 = quot, 4 나누기 5의 나머지 = rem "
   ]
  },
  {
   "cell_type": "code",
   "execution_count": 50,
   "metadata": {},
   "outputs": [
    {
     "data": {
      "text/plain": [
       "('1', '4', 3, ('1', '2', '3', '4'), ('a', 'b', 'c'))"
      ]
     },
     "execution_count": 50,
     "metadata": {},
     "output_type": "execute_result"
    }
   ],
   "source": [
    "def get_data(aTuple):\n",
    "    nums = ()   # empty tuple\n",
    "    words = ()\n",
    "    for t in aTuple:\n",
    "        nums = nums + (t[0], )  # singleton tuple\n",
    "        if t[1] not in words:\n",
    "            words = words + (t[1],) # (t[1],) - tuple로 감싸서 넣기 위해 ()사이에 ,를 사용한다 \n",
    "                                    # 안그러면 (1+2) 같이 ()를 쓰려는건지 알 수 없다\n",
    "    min_n = min(nums)\n",
    "    max_n = max(nums)\n",
    "    unique_words = len(words)\n",
    "    return (min_n, max_n, unique_words, nums, words)\n",
    "\n",
    "tuple = (\"1a\", \"2b\", \"3c\", \"4a\")\n",
    "get_data(tuple)"
   ]
  },
  {
   "cell_type": "code",
   "execution_count": 59,
   "metadata": {},
   "outputs": [
    {
     "name": "stdout",
     "output_type": "stream",
     "text": [
      "number 7\n",
      "995.0 is here\n"
     ]
    }
   ],
   "source": [
    "x = 995\n",
    "\n",
    "array = []\n",
    "\n",
    "for i in range(1,1000):\n",
    "    array.append(i)\n",
    "\n",
    "epsilon = 1\n",
    "low = 0\n",
    "high = len(array)\n",
    "number = 0\n",
    "\n",
    "guess = (low + high) // 2.0\n",
    "\n",
    "while abs(guess - x) >= epsilon :\n",
    "    if guess > x :\n",
    "        high = guess\n",
    "    else:\n",
    "        low = guess\n",
    "    guess = (low + high) // 2.0\n",
    "    number += 1\n",
    "\n",
    "print(\"number\", number)\n",
    "print(guess, \"is here\")\n"
   ]
  },
  {
   "cell_type": "code",
   "execution_count": null,
   "metadata": {},
   "outputs": [],
   "source": []
  }
 ],
 "metadata": {
  "kernelspec": {
   "display_name": "base",
   "language": "python",
   "name": "python3"
  },
  "language_info": {
   "codemirror_mode": {
    "name": "ipython",
    "version": 3
   },
   "file_extension": ".py",
   "mimetype": "text/x-python",
   "name": "python",
   "nbconvert_exporter": "python",
   "pygments_lexer": "ipython3",
   "version": "3.9.12"
  },
  "orig_nbformat": 4
 },
 "nbformat": 4,
 "nbformat_minor": 2
}
