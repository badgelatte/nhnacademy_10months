{
 "cells": [
  {
   "cell_type": "code",
   "execution_count": 4,
   "metadata": {},
   "outputs": [
    {
     "name": "stdout",
     "output_type": "stream",
     "text": [
      "(566, 'ukdocwbhrjxyagplevztiqmfns')\n",
      "(814, 'oqapehtckduzxbrlywjsmingfv')\n"
     ]
    }
   ],
   "source": [
    "import random\n",
    "\n",
    "s = 'abcdefghijklmnopqrstuvwxyz'\n",
    "\n",
    "list = []\n",
    "\n",
    "for i in range(1, 1000):\n",
    "    list.append((i, ''.join(random.sample(s, len(s)))))\n",
    "\n",
    "print(list[565])\n",
    "\n",
    "list.sort(key = lambda x : x[1])\n",
    "\n",
    "print(list[565])\n"
   ]
  },
  {
   "cell_type": "code",
   "execution_count": 12,
   "metadata": {},
   "outputs": [
    {
     "name": "stdout",
     "output_type": "stream",
     "text": [
      "number =  9\n",
      "565 is your answer\n"
     ]
    }
   ],
   "source": [
    "def search(target, list):\n",
    "    low = 0\n",
    "    high = len(list)\n",
    "    guess = (low + high) // 2\n",
    "    number = 0\n",
    "    \n",
    "    # target과 guess 비교 후 조건 아닐 시 탈출\n",
    "    while list[guess][1] != target and high - low > 1:\n",
    "        number += 1\n",
    "        if list[guess][1] < target:\n",
    "            low = guess\n",
    "        else:\n",
    "            high = guess\n",
    "        \n",
    "        guess = (low + high) // 2\n",
    "        \n",
    "        if high - low <= 1:\n",
    "            guess = -1\n",
    "        \n",
    "    print(\"number = \", number)\n",
    "    print(guess, \"is your answer\")\n",
    "\n",
    "\n",
    "x = \"oqapehtckduzxbrlywjsmingfv\"\n",
    "search(x, list)"
   ]
  },
  {
   "cell_type": "code",
   "execution_count": 13,
   "metadata": {},
   "outputs": [
    {
     "name": "stdout",
     "output_type": "stream",
     "text": [
      "number =  9\n",
      "565 is your answer\n"
     ]
    }
   ],
   "source": [
    "# 얘는 탈출 조건 성립 먼저 확인하고 target과 guess 비교\n",
    "\n",
    "def search(target, list):\n",
    "    low = 0\n",
    "    high = len(list)\n",
    "    number = 0\n",
    "    \n",
    "    # while list[guess][1] != target and high - low > 1:\n",
    "    while low <= high:\n",
    "        guess = (low + high) // 2\n",
    "        \n",
    "        # 탈출하기\n",
    "        if list[guess][1] == target:\n",
    "            break\n",
    "        elif high - low <= 1:\n",
    "            guess = -1\n",
    "            break\n",
    "\n",
    "        number += 1     # 탈출 시도한 횟수가 number니까 number를 탈출 횟수 시도 다음에 +1해줘야한다\n",
    "        if list[guess][1] < target:\n",
    "            low = guess\n",
    "        else:\n",
    "            high = guess\n",
    "        \n",
    "        \n",
    "        \n",
    "    print(\"number = \", number)\n",
    "    print(guess, \"is your answer\")\n",
    "\n",
    "\n",
    "x = \"oqapehtckduzxbrlywjsmingfv\"\n",
    "search(x, list)"
   ]
  },
  {
   "cell_type": "code",
   "execution_count": 11,
   "metadata": {},
   "outputs": [
    {
     "name": "stdout",
     "output_type": "stream",
     "text": [
      "number =  10\n",
      "565 is your answer\n"
     ]
    }
   ],
   "source": [
    "# 얘는 탈출 조건 성립 먼저 확인하고 target과 guess 비교\n",
    "\n",
    "def search(target, list):\n",
    "    low = 0\n",
    "    high = len(list)\n",
    "    number = 0\n",
    "    \n",
    "    while low <= high:              # = true\n",
    "        guess = (low + high) // 2   # guess 값 내놓기\n",
    "        number += 1                 # 시도 횟수 + 1\n",
    "\n",
    "        # guess 위치 재조정 \n",
    "        if list[guess][1] < target: \n",
    "            low = guess\n",
    "        else:\n",
    "            high = guess\n",
    "        \n",
    "        if list[guess][1] == target:    # target과 guess 맞는가 확인\n",
    "            break\n",
    "        elif high - low <= 1:           # target과 guess가 다른데 while문에 갖혀 있는가\n",
    "            guess = -1\n",
    "            break\n",
    "        \n",
    "        \n",
    "    print(\"number = \", number)\n",
    "    print(guess, \"is your answer\")\n",
    "\n",
    "\n",
    "x = \"oqapehtckduzxbrlywjsmingfv\"\n",
    "search(x, list)"
   ]
  },
  {
   "cell_type": "code",
   "execution_count": 8,
   "metadata": {},
   "outputs": [],
   "source": [
    "def search(target, list):\n",
    "    list2 = []\n",
    "    for i in list:\n",
    "        if target in i[1]:\n",
    "            list2.append(i)\n",
    "            # print(i)\n",
    "    print(\"list2\", list2)\n"
   ]
  }
 ],
 "metadata": {
  "kernelspec": {
   "display_name": "base",
   "language": "python",
   "name": "python3"
  },
  "language_info": {
   "codemirror_mode": {
    "name": "ipython",
    "version": 3
   },
   "file_extension": ".py",
   "mimetype": "text/x-python",
   "name": "python",
   "nbconvert_exporter": "python",
   "pygments_lexer": "ipython3",
   "version": "3.9.12"
  },
  "orig_nbformat": 4
 },
 "nbformat": 4,
 "nbformat_minor": 2
}
