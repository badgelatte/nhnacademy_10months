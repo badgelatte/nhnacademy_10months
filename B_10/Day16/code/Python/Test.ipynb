{
 "cells": [
  {
   "cell_type": "code",
   "execution_count": null,
   "metadata": {},
   "outputs": [],
   "source": [
    "int[] array = {1, 2,3,4,5};\n",
    "\n",
    "for(int i : array) {\n",
    "    System.out.println(i);\n",
    "}"
   ]
  }
 ],
 "metadata": {
  "language_info": {
   "name": "python"
  },
  "orig_nbformat": 4
 },
 "nbformat": 4,
 "nbformat_minor": 2
}
